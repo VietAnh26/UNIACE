{
 "cells": [
  {
   "cell_type": "markdown",
   "id": "7b175045",
   "metadata": {},
   "source": [
    "**<h1>SEO Analytics Project**"
   ]
  },
  {
   "cell_type": "markdown",
   "id": "ac1a3db0",
   "metadata": {},
   "source": [
    "<h3>Các bước thực hiện:"
   ]
  },
  {
   "cell_type": "markdown",
   "id": "5b259c3e",
   "metadata": {},
   "source": [
    "1. Đọc dữ liệu từ cơ sở dữ liệu.\n",
    "2. Xử lý dữ liệu date đúng định dạng\n",
    "3. Loại bỏ các cột không cần thiết.\n",
    "4. Chuyển các dữ liệu lệch cột về đúng vị trí.\n",
    "5. Tách tên miền từ cột MA Referrer.\n",
    "6. Tìm vị trí người dùng thông qua IP Address.\n",
    "7. Phân loại các nội dung tìm kiếm.\n",
    "8. Phân loại người dùng qua Email.\n",
    "9. Lọc các lượt truy cập 1 lần không tương tác (Bounce Rate)."
   ]
  },
  {
   "cell_type": "code",
   "execution_count": 212,
   "id": "02908626",
   "metadata": {},
   "outputs": [],
   "source": [
    "# Gọi các thư viện cần thiết\n",
    "import pandas as pd\n",
    "import tldextract # tldextract giúp lấy tên miền\n",
    "import geoip2.database # geoip2 giúp lấy thông tin địa lý từ địa chỉ IP\n",
    "from tqdm import tqdm # hiển thị tiến trình\n",
    "from sqlalchemy import create_engine # SQLAlchemy giúp kết nối và tương tác với cơ sở dữ liệu\n",
    "import urllib.parse "
   ]
  },
  {
   "cell_type": "markdown",
   "id": "953e1f3a",
   "metadata": {},
   "source": [
    "<h2>Đọc dữ liệu"
   ]
  },
  {
   "cell_type": "code",
   "execution_count": null,
   "id": "fd5089f3",
   "metadata": {
    "slideshow": {
     "slide_type": "slide"
    }
   },
   "outputs": [],
   "source": [
    "server = 'longth.database.windows.net'\n",
    "database = 'longth'\n",
    "username = 'student'\n",
    "password = 'Rm!t2002'\n",
    "\n",
    "driver = 'ODBC Driver 17 for SQL Server' \n",
    "\n",
    "params = urllib.parse.quote_plus(\n",
    "    f\"DRIVER={driver};\"\n",
    "    f\"SERVER={server};\"\n",
    "    f\"DATABASE={database};\"\n",
    "    f\"UID={username};\"\n",
    "    f\"PWD={password};\"\n",
    "    \"Encrypt=yes;\"\n",
    "    \"TrustServerCertificate=no;\"\n",
    "    \"Connection Timeout=30;\"\n",
    ")\n",
    "\n",
    "engine = create_engine(f\"mssql+pyodbc:///?odbc_connect={params}\")"
   ]
  },
  {
   "cell_type": "code",
   "execution_count": null,
   "id": "8eb433ca",
   "metadata": {},
   "outputs": [],
   "source": [
    "def sql_to_df(table):\n",
    "    query = f'Select * from dbo.{table}'\n",
    "    df = pd.read_sql(query, engine)\n",
    "    return df"
   ]
  },
  {
   "cell_type": "code",
   "execution_count": null,
   "id": "c6aa9373",
   "metadata": {},
   "outputs": [],
   "source": [
    "# Danh sách tên bảng\n",
    "tables = ['Uniace_1', 'Uniace_2', 'Uniace_3']\n",
    "\n",
    "dataframes = {}\n",
    "\n",
    "for table in tables:\n",
    "    dataframes[table] = sql_to_df(table)\n",
    "\n",
    "# Truy cập từng bảng:\n",
    "df1 = dataframes['Uniace_1']\n",
    "df2 = dataframes['Uniace_2']\n",
    "df3 = dataframes['Uniace_3']"
   ]
  },
  {
   "cell_type": "markdown",
   "id": "6822440e",
   "metadata": {},
   "source": [
    "<h2>Định dạng cột Date"
   ]
  },
  {
   "cell_type": "code",
   "execution_count": null,
   "id": "317aba52",
   "metadata": {},
   "outputs": [],
   "source": [
    "def clean_date(dataframe):\n",
    "    dataframe = dataframe.str.replace('/','-')\n",
    "\n",
    "    # Tạo cột 'Date_1' và 'Hour_1' từ cột 'Date' để tách ngày và giờ\n",
    "    dataframe['Date_1'] = dataframe['Date'].apply(lambda x: str(x).split(' ')[0] if pd.notnull(x) else None)  # Tách ngày từ cột 'Date'\n",
    "    dataframe['Hour_1'] = dataframe['Date'].apply(lambda x: str(x).split(' ')[1] if pd.notnull(x) and len(str(x).split(' ')) > 1 else None)  # Tách giờ từ cột 'Date'\n",
    "\n",
    "    # Chuyển đổi cột 'Date_1' sang định dạng datetime và định dạng lại thành 'YYYY-MM-DD' để Power BI có thể nhận diện\n",
    "    dataframe['Date_1'] = pd.to_datetime(dataframe['Date_1'], dayfirst=True, errors='coerce')  # Chuyển đổi cột 'Date_1' sang định dạng datetime\n",
    "    dataframe['Date_1'] = dataframe['Date_1'].dt.strftime('%Y-%m-%d')\n",
    "    \n",
    "    return dataframe\n",
    "\n",
    "\n"
   ]
  },
  {
   "cell_type": "code",
   "execution_count": null,
   "id": "397bc115",
   "metadata": {},
   "outputs": [],
   "source": [
    "df1 = clean_date(df1)\n",
    "df2 = clean_date(df2)\n",
    "df3 = clean_date(df3)"
   ]
  },
  {
   "cell_type": "markdown",
   "id": "9b7f8e39",
   "metadata": {},
   "source": [
    "<h2>Loại bỏ các cột không cần thiết"
   ]
  },
  {
   "cell_type": "code",
   "execution_count": 214,
   "id": "69badc7f",
   "metadata": {},
   "outputs": [],
   "source": [
    "df1.drop(columns=['List Id','Form Id','Campaign Id','Campaign Name','Scenario Id','URL','Link'\n",
    "], inplace=True)\n",
    "df2.drop(columns=['List Id','Form Id','Campaign Id','Campaign Name','Scenario Id','URL','Link'\n",
    "], inplace=True)\n",
    "df3.drop(columns=['List Id','Form Id','Campaign Id','Campaign Name','Scenario Id','URL','Link'\n",
    "], inplace=True)"
   ]
  },
  {
   "cell_type": "markdown",
   "id": "99f2ca17",
   "metadata": {},
   "source": [
    "**<h2>Lọc các dòng có dữ liệu bị lệch của bảng 3 sau đó đưa về đúng vị trí.**"
   ]
  },
  {
   "cell_type": "code",
   "execution_count": 215,
   "id": "daeff905",
   "metadata": {},
   "outputs": [],
   "source": [
    "# Sử dụng regex để lọc ra các IP Address bắt đầu bằng số 1-9 vào df3_f và tách các IP Address không bắt đầu bằng số 1-9 vào df3_s\n",
    "df3_f = df3[df3['IP Address'].str.contains(r'^[1-9]',regex=True,na=True) == True]\n",
    "df3_s = df3[df3['IP Address'].str.contains(r'^[1-9]',regex=True,na=True) == False]"
   ]
  },
  {
   "cell_type": "code",
   "execution_count": 216,
   "id": "84abadf7",
   "metadata": {},
   "outputs": [
    {
     "data": {
      "text/html": [
       "<div>\n",
       "<style scoped>\n",
       "    .dataframe tbody tr th:only-of-type {\n",
       "        vertical-align: middle;\n",
       "    }\n",
       "\n",
       "    .dataframe tbody tr th {\n",
       "        vertical-align: top;\n",
       "    }\n",
       "\n",
       "    .dataframe thead th {\n",
       "        text-align: right;\n",
       "    }\n",
       "</style>\n",
       "<table border=\"1\" class=\"dataframe\">\n",
       "  <thead>\n",
       "    <tr style=\"text-align: right;\">\n",
       "      <th></th>\n",
       "      <th>Email</th>\n",
       "      <th>Type</th>\n",
       "      <th>Name</th>\n",
       "      <th>Title</th>\n",
       "      <th>MA URL</th>\n",
       "      <th>MA Referrer</th>\n",
       "      <th>ma_path</th>\n",
       "      <th>IP Address</th>\n",
       "      <th>cuid</th>\n",
       "      <th>Date</th>\n",
       "      <th>Message Id</th>\n",
       "      <th>Template Id</th>\n",
       "      <th>Tag</th>\n",
       "    </tr>\n",
       "  </thead>\n",
       "  <tbody>\n",
       "    <tr>\n",
       "      <th>4340</th>\n",
       "      <td>NaN</td>\n",
       "      <td>page</td>\n",
       "      <td>Chủ nghĩa khắc kỷ là gì? Cách ứng dụng vào cuộ...</td>\n",
       "      <td>Chủ nghĩa khắc kỷ là gì? Cách ứng dụng vào cuộ...</td>\n",
       "      <td>https://uniace.vn/chu-nghia-khac-ky-la-gi/</td>\n",
       "      <td>https://r.search.yahoo.com/_ylt=AwrwBpVlnx1hq6...</td>\n",
       "      <td>_ylu=Y29sbwMEcG9zAzQEdnRpZAMEc2VjA3Ny/RV=2/RE=...</td>\n",
       "      <td>/chu-nghia-khac-ky-la-gi/</td>\n",
       "      <td>115.76.26.140</td>\n",
       "      <td>f025d187-9ec2-4571-930f-38b2ecdddff7</td>\n",
       "      <td>NaN</td>\n",
       "      <td>NaN</td>\n",
       "      <td>NaN</td>\n",
       "    </tr>\n",
       "    <tr>\n",
       "      <th>6200</th>\n",
       "      <td>NaN</td>\n",
       "      <td>page</td>\n",
       "      <td>Áp lực cuộc sống là do đâu? 4 cách vượt qua áp...</td>\n",
       "      <td>Áp lực cuộc sống là do đâu? 4 cách vượt qua áp...</td>\n",
       "      <td>https://uniace.vn/ap-luc-cuoc-song-la-do-dau/</td>\n",
       "      <td>https://r.search.yahoo.com/_ylt=Awr9Jm8zxRthUQ...</td>\n",
       "      <td>_ylu=Y29sbwNncTEEcG9zAzEEdnRpZAMEc2VjA3Ny/RV=2...</td>\n",
       "      <td>/ap-luc-cuoc-song-la-do-dau/</td>\n",
       "      <td>113.175.10.210</td>\n",
       "      <td>4196ce81-3e4d-4892-a2c5-dd153ed7c793</td>\n",
       "      <td>NaN</td>\n",
       "      <td>NaN</td>\n",
       "      <td>NaN</td>\n",
       "    </tr>\n",
       "    <tr>\n",
       "      <th>7475</th>\n",
       "      <td>NaN</td>\n",
       "      <td>page</td>\n",
       "      <td>Cách lấy dữ liệu từ bảng này sang bảng khác tr...</td>\n",
       "      <td>Cách lấy dữ liệu từ bảng này sang bảng khác tr...</td>\n",
       "      <td>https://uniace.vn/cach-lay-du-lieu-tu-bang-nay...</td>\n",
       "      <td>https://r.search.yahoo.com/_ylt=Awr4xJQ2HRth7f...</td>\n",
       "      <td>_ylu=Y29sbwNncTEEcG9zAzcEdnRpZAMEc2VjA3Ny/RV=2...</td>\n",
       "      <td>/cach-lay-du-lieu-tu-bang-nay-sang-bang-khac-t...</td>\n",
       "      <td>118.71.69.164</td>\n",
       "      <td>1b33d6e0-c8da-4827-9c85-d8cbb4a69446</td>\n",
       "      <td>NaN</td>\n",
       "      <td>NaN</td>\n",
       "      <td>NaN</td>\n",
       "    </tr>\n",
       "    <tr>\n",
       "      <th>10549</th>\n",
       "      <td>NaN</td>\n",
       "      <td>page</td>\n",
       "      <td>Hướng dẫn Power Query cơ bản cho người mới bắt...</td>\n",
       "      <td>Hướng dẫn Power Query cơ bản cho người mới bắt...</td>\n",
       "      <td>https://uniace.vn/huong-dan-power-query-co-ban...</td>\n",
       "      <td>https://r.search.yahoo.com/_ylt=Awr4xJMOExlhGd...</td>\n",
       "      <td>_ylu=Y29sbwNncTEEcG9zAzQEdnRpZAMEc2VjA3Ny/RV=2...</td>\n",
       "      <td>/huong-dan-power-query-co-ban-cho-nguoi-moi-ba...</td>\n",
       "      <td>116.102.41.29</td>\n",
       "      <td>41da7282-162d-4a00-be83-98dcff553817</td>\n",
       "      <td>NaN</td>\n",
       "      <td>NaN</td>\n",
       "      <td>NaN</td>\n",
       "    </tr>\n",
       "    <tr>\n",
       "      <th>10681</th>\n",
       "      <td>NaN</td>\n",
       "      <td>page</td>\n",
       "      <td>Hướng dẫn sử dụng Power Query để chuẩn hóa dữ ...</td>\n",
       "      <td>Hướng dẫn sử dụng Power Query để chuẩn hóa dữ ...</td>\n",
       "      <td>https://uniace.vn/huong-dan-su-dung-power-quer...</td>\n",
       "      <td>https://r.search.yahoo.com/_ylt=Awr9DtI8DRlhw8...</td>\n",
       "      <td>_ylu=Y29sbwNncTEEcG9zAzYEdnRpZAMEc2VjA3Ny/RV=2...</td>\n",
       "      <td>/huong-dan-su-dung-power-query-de-chuan-hoa-du...</td>\n",
       "      <td>116.102.41.29</td>\n",
       "      <td>41da7282-162d-4a00-be83-98dcff553817</td>\n",
       "      <td>NaN</td>\n",
       "      <td>NaN</td>\n",
       "      <td>NaN</td>\n",
       "    </tr>\n",
       "    <tr>\n",
       "      <th>12553</th>\n",
       "      <td>NaN</td>\n",
       "      <td>page</td>\n",
       "      <td>Hướng Dẫn Cách Copy Giữ Nguyên Giá Trị Trong E...</td>\n",
       "      <td>Hướng Dẫn Cách Copy Giữ Nguyên Giá Trị Trong E...</td>\n",
       "      <td>https://uniace.vn/cach-copy-giu-nguyen-gia-tri...</td>\n",
       "      <td>https://r.search.yahoo.com/_ylt=AwrwZeUa1xdhyz...</td>\n",
       "      <td>_ylu=Y29sbwNzZzMEcG9zAzMEdnRpZAMEc2VjA3Ny/RV=2...</td>\n",
       "      <td>/cach-copy-giu-nguyen-gia-tri-trong-excel/</td>\n",
       "      <td>14.175.156.166</td>\n",
       "      <td>02ba7bad-4569-4207-9a93-202fc4b9a792</td>\n",
       "      <td>NaN</td>\n",
       "      <td>NaN</td>\n",
       "      <td>NaN</td>\n",
       "    </tr>\n",
       "    <tr>\n",
       "      <th>12631</th>\n",
       "      <td>NaN</td>\n",
       "      <td>page</td>\n",
       "      <td>Hướng Dẫn Cách Copy Giữ Nguyên Giá Trị Trong E...</td>\n",
       "      <td>Hướng Dẫn Cách Copy Giữ Nguyên Giá Trị Trong E...</td>\n",
       "      <td>https://uniace.vn/cach-copy-giu-nguyen-gia-tri...</td>\n",
       "      <td>https://r.search.yahoo.com/_ylt=AwrS_Alzxhdhsx...</td>\n",
       "      <td>_ylu=Y29sbwNncTEEcG9zAzIEdnRpZAMEc2VjA3Ny/RV=2...</td>\n",
       "      <td>/cach-copy-giu-nguyen-gia-tri-trong-excel/</td>\n",
       "      <td>113.160.214.65</td>\n",
       "      <td>db772472-a05f-440b-80d6-ccfdc4419937</td>\n",
       "      <td>NaN</td>\n",
       "      <td>NaN</td>\n",
       "      <td>NaN</td>\n",
       "    </tr>\n",
       "    <tr>\n",
       "      <th>16707</th>\n",
       "      <td>NaN</td>\n",
       "      <td>page</td>\n",
       "      <td>Hướng Dẫn Cách Kết Nối Đến Power Query</td>\n",
       "      <td>Hướng Dẫn Cách Kết Nối Đến Power Query</td>\n",
       "      <td>https://uniace.vn/huong-dan-power-query-co-ban...</td>\n",
       "      <td>https://r.search.yahoo.com/_ylt=Awr9Dux5bhZhP9...</td>\n",
       "      <td>_ylu=Y29sbwNncTEEcG9zAzEwBHZ0aWQDBHNlYwNzcg--/...</td>\n",
       "      <td>/huong-dan-power-query-co-ban-cho-nguoi-moi-ba...</td>\n",
       "      <td>116.102.41.29</td>\n",
       "      <td>41da7282-162d-4a00-be83-98dcff553817</td>\n",
       "      <td>NaN</td>\n",
       "      <td>NaN</td>\n",
       "      <td>NaN</td>\n",
       "    </tr>\n",
       "    <tr>\n",
       "      <th>16716</th>\n",
       "      <td>NaN</td>\n",
       "      <td>page</td>\n",
       "      <td>Power Pivot Là Gì? Tìm Hiểu Ứng Dụng Của Power...</td>\n",
       "      <td>Power Pivot Là Gì? Tìm Hiểu Ứng Dụng Của Power...</td>\n",
       "      <td>https://uniace.vn/power-pivot-la-gi/</td>\n",
       "      <td>https://r.search.yahoo.com/_ylt=Awr9DuQOPhZhNA...</td>\n",
       "      <td>_ylu=Y29sbwNncTEEcG9zAzQEdnRpZAMEc2VjA3Ny/RV=2...</td>\n",
       "      <td>/power-pivot-la-gi/</td>\n",
       "      <td>116.102.41.29</td>\n",
       "      <td>41da7282-162d-4a00-be83-98dcff553817</td>\n",
       "      <td>NaN</td>\n",
       "      <td>NaN</td>\n",
       "      <td>NaN</td>\n",
       "    </tr>\n",
       "    <tr>\n",
       "      <th>19334</th>\n",
       "      <td>NaN</td>\n",
       "      <td>page</td>\n",
       "      <td>Hướng Dẫn Cách Copy Giữ Nguyên Giá Trị Trong E...</td>\n",
       "      <td>Hướng Dẫn Cách Copy Giữ Nguyên Giá Trị Trong E...</td>\n",
       "      <td>https://uniace.vn/cach-copy-giu-nguyen-gia-tri...</td>\n",
       "      <td>https://r.search.yahoo.com/_ylt=AwrPg08HkxRhED...</td>\n",
       "      <td>_ylu=Y29sbwNzZzMEcG9zAzEEdnRpZAMEc2VjA3Ny/RV=2...</td>\n",
       "      <td>/cach-copy-giu-nguyen-gia-tri-trong-excel/</td>\n",
       "      <td>103.156.42.94</td>\n",
       "      <td>a4372989-177e-43c1-b07a-c7e9fa312d33</td>\n",
       "      <td>NaN</td>\n",
       "      <td>NaN</td>\n",
       "      <td>NaN</td>\n",
       "    </tr>\n",
       "  </tbody>\n",
       "</table>\n",
       "</div>"
      ],
      "text/plain": [
       "      Email  Type                                               Name  \\\n",
       "4340    NaN  page  Chủ nghĩa khắc kỷ là gì? Cách ứng dụng vào cuộ...   \n",
       "6200    NaN  page  Áp lực cuộc sống là do đâu? 4 cách vượt qua áp...   \n",
       "7475    NaN  page  Cách lấy dữ liệu từ bảng này sang bảng khác tr...   \n",
       "10549   NaN  page  Hướng dẫn Power Query cơ bản cho người mới bắt...   \n",
       "10681   NaN  page  Hướng dẫn sử dụng Power Query để chuẩn hóa dữ ...   \n",
       "12553   NaN  page  Hướng Dẫn Cách Copy Giữ Nguyên Giá Trị Trong E...   \n",
       "12631   NaN  page  Hướng Dẫn Cách Copy Giữ Nguyên Giá Trị Trong E...   \n",
       "16707   NaN  page             Hướng Dẫn Cách Kết Nối Đến Power Query   \n",
       "16716   NaN  page  Power Pivot Là Gì? Tìm Hiểu Ứng Dụng Của Power...   \n",
       "19334   NaN  page  Hướng Dẫn Cách Copy Giữ Nguyên Giá Trị Trong E...   \n",
       "\n",
       "                                                   Title  \\\n",
       "4340   Chủ nghĩa khắc kỷ là gì? Cách ứng dụng vào cuộ...   \n",
       "6200   Áp lực cuộc sống là do đâu? 4 cách vượt qua áp...   \n",
       "7475   Cách lấy dữ liệu từ bảng này sang bảng khác tr...   \n",
       "10549  Hướng dẫn Power Query cơ bản cho người mới bắt...   \n",
       "10681  Hướng dẫn sử dụng Power Query để chuẩn hóa dữ ...   \n",
       "12553  Hướng Dẫn Cách Copy Giữ Nguyên Giá Trị Trong E...   \n",
       "12631  Hướng Dẫn Cách Copy Giữ Nguyên Giá Trị Trong E...   \n",
       "16707             Hướng Dẫn Cách Kết Nối Đến Power Query   \n",
       "16716  Power Pivot Là Gì? Tìm Hiểu Ứng Dụng Của Power...   \n",
       "19334  Hướng Dẫn Cách Copy Giữ Nguyên Giá Trị Trong E...   \n",
       "\n",
       "                                                  MA URL  \\\n",
       "4340          https://uniace.vn/chu-nghia-khac-ky-la-gi/   \n",
       "6200       https://uniace.vn/ap-luc-cuoc-song-la-do-dau/   \n",
       "7475   https://uniace.vn/cach-lay-du-lieu-tu-bang-nay...   \n",
       "10549  https://uniace.vn/huong-dan-power-query-co-ban...   \n",
       "10681  https://uniace.vn/huong-dan-su-dung-power-quer...   \n",
       "12553  https://uniace.vn/cach-copy-giu-nguyen-gia-tri...   \n",
       "12631  https://uniace.vn/cach-copy-giu-nguyen-gia-tri...   \n",
       "16707  https://uniace.vn/huong-dan-power-query-co-ban...   \n",
       "16716               https://uniace.vn/power-pivot-la-gi/   \n",
       "19334  https://uniace.vn/cach-copy-giu-nguyen-gia-tri...   \n",
       "\n",
       "                                             MA Referrer  \\\n",
       "4340   https://r.search.yahoo.com/_ylt=AwrwBpVlnx1hq6...   \n",
       "6200   https://r.search.yahoo.com/_ylt=Awr9Jm8zxRthUQ...   \n",
       "7475   https://r.search.yahoo.com/_ylt=Awr4xJQ2HRth7f...   \n",
       "10549  https://r.search.yahoo.com/_ylt=Awr4xJMOExlhGd...   \n",
       "10681  https://r.search.yahoo.com/_ylt=Awr9DtI8DRlhw8...   \n",
       "12553  https://r.search.yahoo.com/_ylt=AwrwZeUa1xdhyz...   \n",
       "12631  https://r.search.yahoo.com/_ylt=AwrS_Alzxhdhsx...   \n",
       "16707  https://r.search.yahoo.com/_ylt=Awr9Dux5bhZhP9...   \n",
       "16716  https://r.search.yahoo.com/_ylt=Awr9DuQOPhZhNA...   \n",
       "19334  https://r.search.yahoo.com/_ylt=AwrPg08HkxRhED...   \n",
       "\n",
       "                                                 ma_path  \\\n",
       "4340   _ylu=Y29sbwMEcG9zAzQEdnRpZAMEc2VjA3Ny/RV=2/RE=...   \n",
       "6200   _ylu=Y29sbwNncTEEcG9zAzEEdnRpZAMEc2VjA3Ny/RV=2...   \n",
       "7475   _ylu=Y29sbwNncTEEcG9zAzcEdnRpZAMEc2VjA3Ny/RV=2...   \n",
       "10549  _ylu=Y29sbwNncTEEcG9zAzQEdnRpZAMEc2VjA3Ny/RV=2...   \n",
       "10681  _ylu=Y29sbwNncTEEcG9zAzYEdnRpZAMEc2VjA3Ny/RV=2...   \n",
       "12553  _ylu=Y29sbwNzZzMEcG9zAzMEdnRpZAMEc2VjA3Ny/RV=2...   \n",
       "12631  _ylu=Y29sbwNncTEEcG9zAzIEdnRpZAMEc2VjA3Ny/RV=2...   \n",
       "16707  _ylu=Y29sbwNncTEEcG9zAzEwBHZ0aWQDBHNlYwNzcg--/...   \n",
       "16716  _ylu=Y29sbwNncTEEcG9zAzQEdnRpZAMEc2VjA3Ny/RV=2...   \n",
       "19334  _ylu=Y29sbwNzZzMEcG9zAzEEdnRpZAMEc2VjA3Ny/RV=2...   \n",
       "\n",
       "                                              IP Address            cuid  \\\n",
       "4340                           /chu-nghia-khac-ky-la-gi/   115.76.26.140   \n",
       "6200                        /ap-luc-cuoc-song-la-do-dau/  113.175.10.210   \n",
       "7475   /cach-lay-du-lieu-tu-bang-nay-sang-bang-khac-t...   118.71.69.164   \n",
       "10549  /huong-dan-power-query-co-ban-cho-nguoi-moi-ba...   116.102.41.29   \n",
       "10681  /huong-dan-su-dung-power-query-de-chuan-hoa-du...   116.102.41.29   \n",
       "12553         /cach-copy-giu-nguyen-gia-tri-trong-excel/  14.175.156.166   \n",
       "12631         /cach-copy-giu-nguyen-gia-tri-trong-excel/  113.160.214.65   \n",
       "16707  /huong-dan-power-query-co-ban-cho-nguoi-moi-ba...   116.102.41.29   \n",
       "16716                                /power-pivot-la-gi/   116.102.41.29   \n",
       "19334         /cach-copy-giu-nguyen-gia-tri-trong-excel/   103.156.42.94   \n",
       "\n",
       "                                       Date  Message Id  Template Id  Tag  \n",
       "4340   f025d187-9ec2-4571-930f-38b2ecdddff7         NaN          NaN  NaN  \n",
       "6200   4196ce81-3e4d-4892-a2c5-dd153ed7c793         NaN          NaN  NaN  \n",
       "7475   1b33d6e0-c8da-4827-9c85-d8cbb4a69446         NaN          NaN  NaN  \n",
       "10549  41da7282-162d-4a00-be83-98dcff553817         NaN          NaN  NaN  \n",
       "10681  41da7282-162d-4a00-be83-98dcff553817         NaN          NaN  NaN  \n",
       "12553  02ba7bad-4569-4207-9a93-202fc4b9a792         NaN          NaN  NaN  \n",
       "12631  db772472-a05f-440b-80d6-ccfdc4419937         NaN          NaN  NaN  \n",
       "16707  41da7282-162d-4a00-be83-98dcff553817         NaN          NaN  NaN  \n",
       "16716  41da7282-162d-4a00-be83-98dcff553817         NaN          NaN  NaN  \n",
       "19334  a4372989-177e-43c1-b07a-c7e9fa312d33         NaN          NaN  NaN  "
      ]
     },
     "execution_count": 216,
     "metadata": {},
     "output_type": "execute_result"
    }
   ],
   "source": [
    "df3_s"
   ]
  },
  {
   "cell_type": "code",
   "execution_count": 217,
   "id": "74607c2e",
   "metadata": {},
   "outputs": [],
   "source": [
    "# Đưa các dữ liệu bj lệch về đúng vị trí\n",
    "df3_s.loc[:,'IP Address'] = df3_s.loc[:,'cuid']\n",
    "df3_s.loc[:,'cuid'] = df3_s.loc[:,'Date']\n",
    "df3_s.loc[:,'Date'] = df3_s.loc[:,'Message Id']"
   ]
  },
  {
   "cell_type": "code",
   "execution_count": 218,
   "id": "43c0c467",
   "metadata": {},
   "outputs": [
    {
     "data": {
      "text/html": [
       "<div>\n",
       "<style scoped>\n",
       "    .dataframe tbody tr th:only-of-type {\n",
       "        vertical-align: middle;\n",
       "    }\n",
       "\n",
       "    .dataframe tbody tr th {\n",
       "        vertical-align: top;\n",
       "    }\n",
       "\n",
       "    .dataframe thead th {\n",
       "        text-align: right;\n",
       "    }\n",
       "</style>\n",
       "<table border=\"1\" class=\"dataframe\">\n",
       "  <thead>\n",
       "    <tr style=\"text-align: right;\">\n",
       "      <th></th>\n",
       "      <th>Email</th>\n",
       "      <th>Type</th>\n",
       "      <th>Name</th>\n",
       "      <th>Title</th>\n",
       "      <th>MA URL</th>\n",
       "      <th>MA Referrer</th>\n",
       "      <th>ma_path</th>\n",
       "      <th>IP Address</th>\n",
       "      <th>cuid</th>\n",
       "      <th>Date</th>\n",
       "      <th>Message Id</th>\n",
       "      <th>Template Id</th>\n",
       "      <th>Tag</th>\n",
       "    </tr>\n",
       "  </thead>\n",
       "  <tbody>\n",
       "    <tr>\n",
       "      <th>4340</th>\n",
       "      <td>NaN</td>\n",
       "      <td>page</td>\n",
       "      <td>Chủ nghĩa khắc kỷ là gì? Cách ứng dụng vào cuộ...</td>\n",
       "      <td>Chủ nghĩa khắc kỷ là gì? Cách ứng dụng vào cuộ...</td>\n",
       "      <td>https://uniace.vn/chu-nghia-khac-ky-la-gi/</td>\n",
       "      <td>https://r.search.yahoo.com/_ylt=AwrwBpVlnx1hq6...</td>\n",
       "      <td>_ylu=Y29sbwMEcG9zAzQEdnRpZAMEc2VjA3Ny/RV=2/RE=...</td>\n",
       "      <td>115.76.26.140</td>\n",
       "      <td>f025d187-9ec2-4571-930f-38b2ecdddff7</td>\n",
       "      <td>NaN</td>\n",
       "      <td>NaN</td>\n",
       "      <td>NaN</td>\n",
       "      <td>NaN</td>\n",
       "    </tr>\n",
       "    <tr>\n",
       "      <th>6200</th>\n",
       "      <td>NaN</td>\n",
       "      <td>page</td>\n",
       "      <td>Áp lực cuộc sống là do đâu? 4 cách vượt qua áp...</td>\n",
       "      <td>Áp lực cuộc sống là do đâu? 4 cách vượt qua áp...</td>\n",
       "      <td>https://uniace.vn/ap-luc-cuoc-song-la-do-dau/</td>\n",
       "      <td>https://r.search.yahoo.com/_ylt=Awr9Jm8zxRthUQ...</td>\n",
       "      <td>_ylu=Y29sbwNncTEEcG9zAzEEdnRpZAMEc2VjA3Ny/RV=2...</td>\n",
       "      <td>113.175.10.210</td>\n",
       "      <td>4196ce81-3e4d-4892-a2c5-dd153ed7c793</td>\n",
       "      <td>NaN</td>\n",
       "      <td>NaN</td>\n",
       "      <td>NaN</td>\n",
       "      <td>NaN</td>\n",
       "    </tr>\n",
       "    <tr>\n",
       "      <th>7475</th>\n",
       "      <td>NaN</td>\n",
       "      <td>page</td>\n",
       "      <td>Cách lấy dữ liệu từ bảng này sang bảng khác tr...</td>\n",
       "      <td>Cách lấy dữ liệu từ bảng này sang bảng khác tr...</td>\n",
       "      <td>https://uniace.vn/cach-lay-du-lieu-tu-bang-nay...</td>\n",
       "      <td>https://r.search.yahoo.com/_ylt=Awr4xJQ2HRth7f...</td>\n",
       "      <td>_ylu=Y29sbwNncTEEcG9zAzcEdnRpZAMEc2VjA3Ny/RV=2...</td>\n",
       "      <td>118.71.69.164</td>\n",
       "      <td>1b33d6e0-c8da-4827-9c85-d8cbb4a69446</td>\n",
       "      <td>NaN</td>\n",
       "      <td>NaN</td>\n",
       "      <td>NaN</td>\n",
       "      <td>NaN</td>\n",
       "    </tr>\n",
       "  </tbody>\n",
       "</table>\n",
       "</div>"
      ],
      "text/plain": [
       "     Email  Type                                               Name  \\\n",
       "4340   NaN  page  Chủ nghĩa khắc kỷ là gì? Cách ứng dụng vào cuộ...   \n",
       "6200   NaN  page  Áp lực cuộc sống là do đâu? 4 cách vượt qua áp...   \n",
       "7475   NaN  page  Cách lấy dữ liệu từ bảng này sang bảng khác tr...   \n",
       "\n",
       "                                                  Title  \\\n",
       "4340  Chủ nghĩa khắc kỷ là gì? Cách ứng dụng vào cuộ...   \n",
       "6200  Áp lực cuộc sống là do đâu? 4 cách vượt qua áp...   \n",
       "7475  Cách lấy dữ liệu từ bảng này sang bảng khác tr...   \n",
       "\n",
       "                                                 MA URL  \\\n",
       "4340         https://uniace.vn/chu-nghia-khac-ky-la-gi/   \n",
       "6200      https://uniace.vn/ap-luc-cuoc-song-la-do-dau/   \n",
       "7475  https://uniace.vn/cach-lay-du-lieu-tu-bang-nay...   \n",
       "\n",
       "                                            MA Referrer  \\\n",
       "4340  https://r.search.yahoo.com/_ylt=AwrwBpVlnx1hq6...   \n",
       "6200  https://r.search.yahoo.com/_ylt=Awr9Jm8zxRthUQ...   \n",
       "7475  https://r.search.yahoo.com/_ylt=Awr4xJQ2HRth7f...   \n",
       "\n",
       "                                                ma_path      IP Address  \\\n",
       "4340  _ylu=Y29sbwMEcG9zAzQEdnRpZAMEc2VjA3Ny/RV=2/RE=...   115.76.26.140   \n",
       "6200  _ylu=Y29sbwNncTEEcG9zAzEEdnRpZAMEc2VjA3Ny/RV=2...  113.175.10.210   \n",
       "7475  _ylu=Y29sbwNncTEEcG9zAzcEdnRpZAMEc2VjA3Ny/RV=2...   118.71.69.164   \n",
       "\n",
       "                                      cuid Date  Message Id  Template Id  Tag  \n",
       "4340  f025d187-9ec2-4571-930f-38b2ecdddff7  NaN         NaN          NaN  NaN  \n",
       "6200  4196ce81-3e4d-4892-a2c5-dd153ed7c793  NaN         NaN          NaN  NaN  \n",
       "7475  1b33d6e0-c8da-4827-9c85-d8cbb4a69446  NaN         NaN          NaN  NaN  "
      ]
     },
     "execution_count": 218,
     "metadata": {},
     "output_type": "execute_result"
    }
   ],
   "source": [
    "df3_s.head(3)"
   ]
  },
  {
   "cell_type": "code",
   "execution_count": 219,
   "id": "46b2d854",
   "metadata": {},
   "outputs": [],
   "source": [
    "# Gộp các dữ liệu df3_f và df3_s lại với nhau sau khi đã đưa về đúng vị trí\n",
    "df3_f = pd.concat([df3_f,df3_s],axis=0)"
   ]
  },
  {
   "cell_type": "code",
   "execution_count": 220,
   "id": "be6383d7",
   "metadata": {},
   "outputs": [
    {
     "data": {
      "text/html": [
       "<div>\n",
       "<style scoped>\n",
       "    .dataframe tbody tr th:only-of-type {\n",
       "        vertical-align: middle;\n",
       "    }\n",
       "\n",
       "    .dataframe tbody tr th {\n",
       "        vertical-align: top;\n",
       "    }\n",
       "\n",
       "    .dataframe thead th {\n",
       "        text-align: right;\n",
       "    }\n",
       "</style>\n",
       "<table border=\"1\" class=\"dataframe\">\n",
       "  <thead>\n",
       "    <tr style=\"text-align: right;\">\n",
       "      <th></th>\n",
       "      <th>Email</th>\n",
       "      <th>Type</th>\n",
       "      <th>Name</th>\n",
       "      <th>Title</th>\n",
       "      <th>MA URL</th>\n",
       "      <th>MA Referrer</th>\n",
       "      <th>ma_path</th>\n",
       "      <th>IP Address</th>\n",
       "      <th>cuid</th>\n",
       "      <th>Date</th>\n",
       "      <th>Message Id</th>\n",
       "      <th>Template Id</th>\n",
       "      <th>Tag</th>\n",
       "    </tr>\n",
       "  </thead>\n",
       "  <tbody>\n",
       "    <tr>\n",
       "      <th>0</th>\n",
       "      <td>lieudung27072000@gmail.com</td>\n",
       "      <td>page</td>\n",
       "      <td>HIGH PERFORMER - uniace.vn</td>\n",
       "      <td>HIGH PERFORMER - uniace.vn</td>\n",
       "      <td>https://uniace.vn/uhp/</td>\n",
       "      <td>https://www.google.com/</td>\n",
       "      <td>/uhp/</td>\n",
       "      <td>123.20.35.106</td>\n",
       "      <td>064b39d4-db8c-4152-8e0c-570390f6672a</td>\n",
       "      <td>21-08-2021 23:59:55</td>\n",
       "      <td>449.0</td>\n",
       "      <td>NaN</td>\n",
       "      <td>NaN</td>\n",
       "    </tr>\n",
       "    <tr>\n",
       "      <th>1</th>\n",
       "      <td>NaN</td>\n",
       "      <td>page</td>\n",
       "      <td>MASTERING DATA ANALYTICS - uniace.vn</td>\n",
       "      <td>MASTERING DATA ANALYTICS - uniace.vn</td>\n",
       "      <td>https://uniace.vn/mda</td>\n",
       "      <td>NaN</td>\n",
       "      <td>/mda</td>\n",
       "      <td>171.251.234.135</td>\n",
       "      <td>ba5cdde2-1612-41f8-9b77-1f5421f81634</td>\n",
       "      <td>21-08-2021 23:58:54</td>\n",
       "      <td>29.0</td>\n",
       "      <td>NaN</td>\n",
       "      <td>NaN</td>\n",
       "    </tr>\n",
       "    <tr>\n",
       "      <th>2</th>\n",
       "      <td>NaN</td>\n",
       "      <td>page</td>\n",
       "      <td>Chương Trình Young Talent Program - Uniace Việ...</td>\n",
       "      <td>Chương Trình Young Talent Program - Uniace Việ...</td>\n",
       "      <td>https://uniace.vn/vyt</td>\n",
       "      <td>NaN</td>\n",
       "      <td>/vyt</td>\n",
       "      <td>125.235.231.17</td>\n",
       "      <td>fadcb9fd-e30a-41d3-87bd-c254b0dff525</td>\n",
       "      <td>21-08-2021 23:58:28</td>\n",
       "      <td>276.0</td>\n",
       "      <td>NaN</td>\n",
       "      <td>NaN</td>\n",
       "    </tr>\n",
       "  </tbody>\n",
       "</table>\n",
       "</div>"
      ],
      "text/plain": [
       "                        Email  Type  \\\n",
       "0  lieudung27072000@gmail.com  page   \n",
       "1                         NaN  page   \n",
       "2                         NaN  page   \n",
       "\n",
       "                                                Name  \\\n",
       "0                         HIGH PERFORMER - uniace.vn   \n",
       "1               MASTERING DATA ANALYTICS - uniace.vn   \n",
       "2  Chương Trình Young Talent Program - Uniace Việ...   \n",
       "\n",
       "                                               Title                  MA URL  \\\n",
       "0                         HIGH PERFORMER - uniace.vn  https://uniace.vn/uhp/   \n",
       "1               MASTERING DATA ANALYTICS - uniace.vn   https://uniace.vn/mda   \n",
       "2  Chương Trình Young Talent Program - Uniace Việ...   https://uniace.vn/vyt   \n",
       "\n",
       "               MA Referrer ma_path       IP Address  \\\n",
       "0  https://www.google.com/   /uhp/    123.20.35.106   \n",
       "1                      NaN    /mda  171.251.234.135   \n",
       "2                      NaN    /vyt   125.235.231.17   \n",
       "\n",
       "                                   cuid                 Date  Message Id  \\\n",
       "0  064b39d4-db8c-4152-8e0c-570390f6672a  21-08-2021 23:59:55       449.0   \n",
       "1  ba5cdde2-1612-41f8-9b77-1f5421f81634  21-08-2021 23:58:54        29.0   \n",
       "2  fadcb9fd-e30a-41d3-87bd-c254b0dff525  21-08-2021 23:58:28       276.0   \n",
       "\n",
       "   Template Id  Tag  \n",
       "0          NaN  NaN  \n",
       "1          NaN  NaN  \n",
       "2          NaN  NaN  "
      ]
     },
     "execution_count": 220,
     "metadata": {},
     "output_type": "execute_result"
    }
   ],
   "source": [
    "df3_f.head(3)"
   ]
  },
  {
   "cell_type": "markdown",
   "id": "6fb5667a",
   "metadata": {},
   "source": [
    "<h3>Xử lý các dữ liệu lệch tương tự với bảng df1 và df2"
   ]
  },
  {
   "cell_type": "code",
   "execution_count": 221,
   "id": "7c6ba054",
   "metadata": {},
   "outputs": [],
   "source": [
    "df2_f = df2[df2['IP Address'].str.contains(r'^[1-9]',regex=True,na=True) == True]\n",
    "df2_s = df2[df2['IP Address'].str.contains(r'^[1-9]',regex=True,na=True) == False]"
   ]
  },
  {
   "cell_type": "code",
   "execution_count": 222,
   "id": "38d7b99e",
   "metadata": {},
   "outputs": [],
   "source": [
    "# Bảng df2 có thêm cột 'MA Referrer' bị lệch vị trí nên ta tạo điều kiện lọc\n",
    "bad_utms = [\n",
    "    'utm_medium=1&amp',\n",
    "    'utm_medium=4&amp',\n",
    "    'utm_medium=6&amp',\n",
    "    'utm_medium=9&amp',\n",
    "]\n",
    "cond = df2_s['MA Referrer'].isin(bad_utms)"
   ]
  },
  {
   "cell_type": "code",
   "execution_count": 223,
   "id": "93f60cfc",
   "metadata": {},
   "outputs": [
    {
     "data": {
      "text/plain": [
       "MA Referrer\n",
       "True     176\n",
       "False     13\n",
       "Name: count, dtype: int64"
      ]
     },
     "execution_count": 223,
     "metadata": {},
     "output_type": "execute_result"
    }
   ],
   "source": [
    "cond.value_counts()"
   ]
  },
  {
   "cell_type": "code",
   "execution_count": 224,
   "id": "673b565e",
   "metadata": {},
   "outputs": [
    {
     "name": "stderr",
     "output_type": "stream",
     "text": [
      "C:\\Users\\Dell Mobile 868\\AppData\\Local\\Temp\\ipykernel_416\\3733288775.py:1: SettingWithCopyWarning: \n",
      "A value is trying to be set on a copy of a slice from a DataFrame\n",
      "\n",
      "See the caveats in the documentation: https://pandas.pydata.org/pandas-docs/stable/user_guide/indexing.html#returning-a-view-versus-a-copy\n",
      "  df2_s.loc[cond,'MA Referrer'] = df2_s.loc[cond,'IP Address']\n"
     ]
    }
   ],
   "source": [
    "df2_s.loc[cond,'MA Referrer'] = df2_s.loc[cond,'IP Address']\n",
    "df2_s.loc[:,'IP Address'] = df2_s.loc[:,'Date']\n",
    "df2_s.loc[:,'cuid'] = df2_s.loc[:,'Message Id']\n",
    "df2_s.loc[:,'Date'] = df2_s.loc[:,'Template Id']"
   ]
  },
  {
   "cell_type": "code",
   "execution_count": 225,
   "id": "cbe63058",
   "metadata": {},
   "outputs": [],
   "source": [
    "df2_f = pd.concat([df2_f,df2_s],axis=0)"
   ]
  },
  {
   "cell_type": "code",
   "execution_count": 226,
   "id": "17ae434b",
   "metadata": {},
   "outputs": [
    {
     "name": "stdout",
     "output_type": "stream",
     "text": [
      "Số dòng lệch giá trị:  0\n"
     ]
    }
   ],
   "source": [
    "df1_f = df1[df1['IP Address'].str.contains(r'^[1-9]',regex=True,na=True) == True]\n",
    "df1_s = df1[df1['IP Address'].str.contains(r'^[1-9]',regex=True,na=True) == False]\n",
    "print('Số dòng lệch giá trị: ',len(df1_s))"
   ]
  },
  {
   "cell_type": "markdown",
   "id": "db76302b",
   "metadata": {},
   "source": [
    "df1_s không có giá giá trị bị lệch nên không cần xử lý."
   ]
  },
  {
   "cell_type": "code",
   "execution_count": 227,
   "id": "4b820b3d",
   "metadata": {},
   "outputs": [],
   "source": [
    "df1_f = pd.concat([df1_f,df1_s],axis=0)"
   ]
  },
  {
   "cell_type": "markdown",
   "id": "a7781f95",
   "metadata": {},
   "source": [
    "<h3>Gộp bảng hoàn chỉnh"
   ]
  },
  {
   "cell_type": "code",
   "execution_count": 228,
   "id": "87ffef0b",
   "metadata": {},
   "outputs": [],
   "source": [
    "df = pd.concat([df1_f,df2_f,df3_f],axis=0)\n",
    "df.reset_index(drop=True, inplace=True)"
   ]
  },
  {
   "cell_type": "markdown",
   "id": "1371c8d4",
   "metadata": {},
   "source": [
    "<h3>Sử dụng regex để tách tên miền"
   ]
  },
  {
   "cell_type": "code",
   "execution_count": 229,
   "id": "d223f1ff",
   "metadata": {},
   "outputs": [],
   "source": [
    "df['Refer'] = df['MA Referrer'].str.extract(r'^(?:https?://|android-app://)?(?:www.)?([^/]+)') # Lấy tên miền từ cột MA Referrer\n"
   ]
  },
  {
   "cell_type": "code",
   "execution_count": 230,
   "id": "bf265f14",
   "metadata": {},
   "outputs": [
    {
     "data": {
      "text/plain": [
       "array(['google.com', 'google.com.vn', 'coccoc.com', nan, 'uniace.vn',\n",
       "       'chgifgh.r.af.d.sendibt2.com', 'google.co.kr', 'google.com.au',\n",
       "       'chgifgh.r.bh.d.sendibt3.com', 'bing.com', 'beacons.ai',\n",
       "       'vn.search.yahoo.com', 'google.co.uk', 'submit.jotform.com',\n",
       "       'form.jotform.com', 'm.facebook.com', 'facebook.com', 'angkoo.com',\n",
       "       'google.com.sg', 'google.co.jp', 'beacons.page',\n",
       "       'com.google.android.googlequicksearchbox', 'google.se',\n",
       "       'l.facebook.com', 'google.com.ph', 'instabio.cc', 'id.zalo.me',\n",
       "       'search.yahoo.com', 'baidu.com', 'discovery.koc.com.vn',\n",
       "       'org.telegram.messenger', 'sg.search.yahoo.com', 'mlr.itim.vn',\n",
       "       'com.google.android.gm', 'google.de', 'google.com.hk', 'google.ca',\n",
       "       'chat.zalo.me', 'laban.vn', 'duckduckgo.com', 'google.fr',\n",
       "       'jp.zaloapp.com', 'yandex.ru', 'ecosia.org', 'player.vimeo.com',\n",
       "       'l.messenger.com', 'l.instagram.com',\n",
       "       'uniace-operation.atlassian.net', 'google.com.tw',\n",
       "       'r.search.yahoo.com', 'uk.search.yahoo.com', 'google.com.co',\n",
       "       'google.nl', 'lm.facebook.com', 'google.co.th',\n",
       "       'webcache.googleusercontent.com', '915be2b8.sibforms.com',\n",
       "       'youtube.com', 'tiktok.com', 'keep.google.com',\n",
       "       'uniace.atlassian.net', 'due.udn.vn', 'google.co.nz', 'google.gg',\n",
       "       'many.link', 'timkiemceo.vn', 'utm_medium=1&amp',\n",
       "       'utm_medium=9&amp', 'search.google.com', 'ahrefs.com',\n",
       "       'inoreader.com', 'my.sendinblue.com', 'google.fi',\n",
       "       'mail.google.com', 'utm_medium=6&amp', 'utm_medium=4&amp'],\n",
       "      dtype=object)"
      ]
     },
     "execution_count": 230,
     "metadata": {},
     "output_type": "execute_result"
    }
   ],
   "source": [
    "df['Refer'].unique()"
   ]
  },
  {
   "cell_type": "code",
   "execution_count": 231,
   "id": "cfc6231f",
   "metadata": {},
   "outputs": [
    {
     "data": {
      "text/plain": [
       "Refer\n",
       "uniace.vn        30053\n",
       "google.com       16474\n",
       "google.com.vn     4124\n",
       "beacons.page      2599\n",
       "coccoc.com        1633\n",
       "Name: count, dtype: int64"
      ]
     },
     "execution_count": 231,
     "metadata": {},
     "output_type": "execute_result"
    }
   ],
   "source": [
    "df['Refer'].value_counts().head()"
   ]
  },
  {
   "cell_type": "markdown",
   "id": "0a8cc3ec",
   "metadata": {},
   "source": [
    "<h3>Sử dụng thư viện tlextract để tách các tên miền chính"
   ]
  },
  {
   "cell_type": "code",
   "execution_count": 232,
   "id": "2784635f",
   "metadata": {},
   "outputs": [],
   "source": [
    "def get_main_domain(url):\n",
    "    if pd.isna(url) or url in bad_utms:\n",
    "        return None\n",
    "    ext = tldextract.extract(url)\n",
    "    return ext.domain  # chỉ lấy phần 'google' trong 'mail.google.com'\n",
    "\n",
    "# Áp dụng vào cột 'Refer'\n",
    "df['Main_Domain'] = df['Refer'].apply(get_main_domain)"
   ]
  },
  {
   "cell_type": "code",
   "execution_count": 233,
   "id": "4266413c",
   "metadata": {},
   "outputs": [
    {
     "data": {
      "text/plain": [
       "Main_Domain\n",
       "uniace      30053\n",
       "google      20750\n",
       "beacons      2754\n",
       "facebook     2316\n",
       "coccoc       1633\n",
       "Name: count, dtype: int64"
      ]
     },
     "execution_count": 233,
     "metadata": {},
     "output_type": "execute_result"
    }
   ],
   "source": [
    "df['Main_Domain'].value_counts().head()"
   ]
  },
  {
   "cell_type": "markdown",
   "id": "82718ef5",
   "metadata": {},
   "source": [
    "<h2>Sử dụng thư viện geoip2 để tìm vị trí thành phố và quốc gia của người dùng thông qua địa chỉ IP."
   ]
  },
  {
   "cell_type": "code",
   "execution_count": 234,
   "id": "7be0284b",
   "metadata": {},
   "outputs": [],
   "source": [
    "# Đọc cơ sở dữ liệu GeoLite2\n",
    "reader = geoip2.database.Reader(\"D:\\Download\\VVA\\download\\GeoLite2-City_20250516\\GeoLite2-City.mmdb\")\n",
    "\n",
    "# Hàm tìm thông tin từ IP\n",
    "def get_location(ip):\n",
    "    try:\n",
    "        response = reader.city(ip)\n",
    "        country = response.country.name\n",
    "        city = response.city.name\n",
    "        return pd.Series([country, city])\n",
    "    except:\n",
    "        return pd.Series([None, None])"
   ]
  },
  {
   "cell_type": "code",
   "execution_count": 235,
   "id": "f5ba5535",
   "metadata": {},
   "outputs": [
    {
     "name": "stderr",
     "output_type": "stream",
     "text": [
      "100%|██████████| 94080/94080 [00:38<00:00, 2473.16it/s]\n"
     ]
    }
   ],
   "source": [
    "# Áp dụng lên toàn bộ DataFrame (dùng tqdm để hiển thị tiến độ)\n",
    "tqdm.pandas()\n",
    "df[['Country', 'City']] = df['IP Address'].progress_apply(get_location)\n",
    "\n",
    "# Đóng file\n",
    "reader.close()"
   ]
  },
  {
   "cell_type": "code",
   "execution_count": 236,
   "id": "a321b7b9",
   "metadata": {},
   "outputs": [
    {
     "data": {
      "text/plain": [
       "City\n",
       "Hanoi               18891\n",
       "Ho Chi Minh City    15873\n",
       "Da Nang              2128\n",
       "Biên Hòa             1265\n",
       "Singapore            1100\n",
       "Chicago              1046\n",
       "Nha Trang             925\n",
       "Quận Bình Thạnh       836\n",
       "Can Tho               806\n",
       "Ha Long               664\n",
       "Name: count, dtype: int64"
      ]
     },
     "execution_count": 236,
     "metadata": {},
     "output_type": "execute_result"
    }
   ],
   "source": [
    "df['City'].value_counts().head(10)"
   ]
  },
  {
   "cell_type": "code",
   "execution_count": 237,
   "id": "39d0b81f",
   "metadata": {},
   "outputs": [],
   "source": [
    "df['City'] = df['City'].apply(lambda x: x if pd.isnull(x) or 'Quận' not in x else 'Can Tho' if 'Ninh Kiều' in x else 'Ho Chi Minh City')"
   ]
  },
  {
   "cell_type": "code",
   "execution_count": 238,
   "id": "28e35926",
   "metadata": {},
   "outputs": [
    {
     "data": {
      "text/plain": [
       "City              Country      \n",
       "Ho Chi Minh City  Vietnam          19289\n",
       "Hanoi             Vietnam          18891\n",
       "Da Nang           Vietnam           2128\n",
       "Biên Hòa          Vietnam           1265\n",
       "Singapore         Singapore         1100\n",
       "Chicago           United States     1046\n",
       "Can Tho           Vietnam            948\n",
       "Nha Trang         Vietnam            925\n",
       "Ha Long           Vietnam            664\n",
       "Haiphong          Vietnam            662\n",
       "Name: count, dtype: int64"
      ]
     },
     "execution_count": 238,
     "metadata": {},
     "output_type": "execute_result"
    }
   ],
   "source": [
    "df[['City','Country']].value_counts().head(10)"
   ]
  },
  {
   "cell_type": "markdown",
   "id": "1f8e3843",
   "metadata": {},
   "source": [
    "<h2>Phân loại chủ đề tìm kiếm."
   ]
  },
  {
   "cell_type": "code",
   "execution_count": 239,
   "id": "3a42fee9",
   "metadata": {},
   "outputs": [],
   "source": [
    "# Tạo dictionary cho các từ khóa\n",
    "theme = {'Phân tích dữ liệu': ['phân tích dữ liệu', 'data','analytics','dữ liệu'],\n",
    "         'Young Talent':['young talent'],\n",
    "         'Excel':['excel'],\n",
    "         'Sql':['sql'],\n",
    "         'Power Bi':['power bi','powerbi'],\n",
    "         'Áp lực cuộc sống':['áp lực cuộc sống'],\n",
    "         'Tư duy': ['tư duy'],\n",
    "         'CAREER COACH': ['career coach']}"
   ]
  },
  {
   "cell_type": "code",
   "execution_count": 242,
   "id": "31052c20",
   "metadata": {},
   "outputs": [],
   "source": [
    "# Hàm phân loại tên theo từ khóa\n",
    "def phan_loai(name, vocab):\n",
    "    if pd.isna(name):\n",
    "        return None\n",
    "    else:\n",
    "        matched = False\n",
    "        for key, value in vocab.items():\n",
    "            for v in value:\n",
    "                if v in name.lower().replace('-',' '):\n",
    "                    matched = True\n",
    "                    return key\n",
    "                    break\n",
    "            if matched:\n",
    "                break\n",
    "        if not matched:\n",
    "            return 'Khác'"
   ]
  },
  {
   "cell_type": "code",
   "execution_count": 243,
   "id": "e0b764ff",
   "metadata": {},
   "outputs": [],
   "source": [
    "df['Category'] = df['Title'].apply(lambda x: phan_loai(x, theme))"
   ]
  },
  {
   "cell_type": "code",
   "execution_count": 244,
   "id": "35346ef4",
   "metadata": {},
   "outputs": [
    {
     "data": {
      "text/plain": [
       "Category\n",
       "Khác                 27919\n",
       "Phân tích dữ liệu    25611\n",
       "Young Talent         14612\n",
       "Excel                 9252\n",
       "Tư duy                1617\n",
       "Power Bi               619\n",
       "Áp lực cuộc sống       599\n",
       "CAREER COACH           462\n",
       "Sql                    173\n",
       "Name: count, dtype: int64"
      ]
     },
     "execution_count": 244,
     "metadata": {},
     "output_type": "execute_result"
    }
   ],
   "source": [
    "df['Category'].value_counts()"
   ]
  },
  {
   "cell_type": "code",
   "execution_count": 245,
   "id": "c8a8d409",
   "metadata": {},
   "outputs": [
    {
     "data": {
      "text/html": [
       "<div>\n",
       "<style scoped>\n",
       "    .dataframe tbody tr th:only-of-type {\n",
       "        vertical-align: middle;\n",
       "    }\n",
       "\n",
       "    .dataframe tbody tr th {\n",
       "        vertical-align: top;\n",
       "    }\n",
       "\n",
       "    .dataframe thead th {\n",
       "        text-align: right;\n",
       "    }\n",
       "</style>\n",
       "<table border=\"1\" class=\"dataframe\">\n",
       "  <thead>\n",
       "    <tr style=\"text-align: right;\">\n",
       "      <th></th>\n",
       "      <th>Email</th>\n",
       "      <th>Type</th>\n",
       "      <th>Name</th>\n",
       "      <th>Title</th>\n",
       "      <th>MA URL</th>\n",
       "      <th>MA Referrer</th>\n",
       "      <th>ma_path</th>\n",
       "      <th>IP Address</th>\n",
       "      <th>cuid</th>\n",
       "      <th>Date</th>\n",
       "      <th>Message Id</th>\n",
       "      <th>Template Id</th>\n",
       "      <th>Tag</th>\n",
       "      <th>Refer</th>\n",
       "      <th>Main_Domain</th>\n",
       "      <th>Country</th>\n",
       "      <th>City</th>\n",
       "      <th>Category</th>\n",
       "    </tr>\n",
       "  </thead>\n",
       "  <tbody>\n",
       "    <tr>\n",
       "      <th>0</th>\n",
       "      <td>NaN</td>\n",
       "      <td>page</td>\n",
       "      <td>Cách lấy dữ liệu từ bảng này sang bảng khác tr...</td>\n",
       "      <td>Cách lấy dữ liệu từ bảng này sang bảng khác tr...</td>\n",
       "      <td>https://uniace.vn/cach-lay-du-lieu-tu-bang-nay...</td>\n",
       "      <td>https://www.google.com/</td>\n",
       "      <td>/cach-lay-du-lieu-tu-bang-nay-sang-bang-khac-t...</td>\n",
       "      <td>14.190.23.197</td>\n",
       "      <td>b2e2a96e-5b97-4880-abeb-35ebf7635b0c</td>\n",
       "      <td>1/8/2021 0:00</td>\n",
       "      <td>NaN</td>\n",
       "      <td>NaN</td>\n",
       "      <td>NaN</td>\n",
       "      <td>google.com</td>\n",
       "      <td>google</td>\n",
       "      <td>Vietnam</td>\n",
       "      <td>Hải Dương</td>\n",
       "      <td>Phân tích dữ liệu</td>\n",
       "    </tr>\n",
       "    <tr>\n",
       "      <th>1</th>\n",
       "      <td>NaN</td>\n",
       "      <td>page</td>\n",
       "      <td>Unique Analytics Center for Everyone - uniace.vn</td>\n",
       "      <td>Unique Analytics Center for Everyone - uniace.vn</td>\n",
       "      <td>https://uniace.vn/</td>\n",
       "      <td>https://www.google.com/</td>\n",
       "      <td>/</td>\n",
       "      <td>113.173.234.231</td>\n",
       "      <td>1d6772fe-ed2e-45a0-a5a1-d9a968cabe0b</td>\n",
       "      <td>1/8/2021 0:08</td>\n",
       "      <td>NaN</td>\n",
       "      <td>NaN</td>\n",
       "      <td>NaN</td>\n",
       "      <td>google.com</td>\n",
       "      <td>google</td>\n",
       "      <td>Vietnam</td>\n",
       "      <td>Ho Chi Minh City</td>\n",
       "      <td>Phân tích dữ liệu</td>\n",
       "    </tr>\n",
       "    <tr>\n",
       "      <th>2</th>\n",
       "      <td>NaN</td>\n",
       "      <td>page</td>\n",
       "      <td>Cách Sử Dụng Hàm Lọc Dữ Liệu Trùng Nhau Trong ...</td>\n",
       "      <td>Cách Sử Dụng Hàm Lọc Dữ Liệu Trùng Nhau Trong ...</td>\n",
       "      <td>https://uniace.vn/ham-loc-du-lieu-trung-nhau-t...</td>\n",
       "      <td>https://www.google.com/</td>\n",
       "      <td>/ham-loc-du-lieu-trung-nhau-trong-excel/</td>\n",
       "      <td>171.252.153.188</td>\n",
       "      <td>fc75c68e-8fba-44b0-8723-b38e1af30cc0</td>\n",
       "      <td>1/8/2021 0:08</td>\n",
       "      <td>NaN</td>\n",
       "      <td>NaN</td>\n",
       "      <td>NaN</td>\n",
       "      <td>google.com</td>\n",
       "      <td>google</td>\n",
       "      <td>Vietnam</td>\n",
       "      <td>Ho Chi Minh City</td>\n",
       "      <td>Phân tích dữ liệu</td>\n",
       "    </tr>\n",
       "  </tbody>\n",
       "</table>\n",
       "</div>"
      ],
      "text/plain": [
       "  Email  Type                                               Name  \\\n",
       "0   NaN  page  Cách lấy dữ liệu từ bảng này sang bảng khác tr...   \n",
       "1   NaN  page   Unique Analytics Center for Everyone - uniace.vn   \n",
       "2   NaN  page  Cách Sử Dụng Hàm Lọc Dữ Liệu Trùng Nhau Trong ...   \n",
       "\n",
       "                                               Title  \\\n",
       "0  Cách lấy dữ liệu từ bảng này sang bảng khác tr...   \n",
       "1   Unique Analytics Center for Everyone - uniace.vn   \n",
       "2  Cách Sử Dụng Hàm Lọc Dữ Liệu Trùng Nhau Trong ...   \n",
       "\n",
       "                                              MA URL              MA Referrer  \\\n",
       "0  https://uniace.vn/cach-lay-du-lieu-tu-bang-nay...  https://www.google.com/   \n",
       "1                                 https://uniace.vn/  https://www.google.com/   \n",
       "2  https://uniace.vn/ham-loc-du-lieu-trung-nhau-t...  https://www.google.com/   \n",
       "\n",
       "                                             ma_path       IP Address  \\\n",
       "0  /cach-lay-du-lieu-tu-bang-nay-sang-bang-khac-t...    14.190.23.197   \n",
       "1                                                  /  113.173.234.231   \n",
       "2           /ham-loc-du-lieu-trung-nhau-trong-excel/  171.252.153.188   \n",
       "\n",
       "                                   cuid           Date Message Id Template Id  \\\n",
       "0  b2e2a96e-5b97-4880-abeb-35ebf7635b0c  1/8/2021 0:00        NaN         NaN   \n",
       "1  1d6772fe-ed2e-45a0-a5a1-d9a968cabe0b  1/8/2021 0:08        NaN         NaN   \n",
       "2  fc75c68e-8fba-44b0-8723-b38e1af30cc0  1/8/2021 0:08        NaN         NaN   \n",
       "\n",
       "   Tag       Refer Main_Domain  Country              City           Category  \n",
       "0  NaN  google.com      google  Vietnam         Hải Dương  Phân tích dữ liệu  \n",
       "1  NaN  google.com      google  Vietnam  Ho Chi Minh City  Phân tích dữ liệu  \n",
       "2  NaN  google.com      google  Vietnam  Ho Chi Minh City  Phân tích dữ liệu  "
      ]
     },
     "execution_count": 245,
     "metadata": {},
     "output_type": "execute_result"
    }
   ],
   "source": [
    "df.head(3)"
   ]
  },
  {
   "cell_type": "markdown",
   "id": "47c689bd",
   "metadata": {},
   "source": [
    "<h2>Phân loại người dùng dựa trên Email."
   ]
  },
  {
   "cell_type": "code",
   "execution_count": 246,
   "id": "ff7159cf",
   "metadata": {},
   "outputs": [
    {
     "data": {
      "text/plain": [
       "Email\n",
       "kieuanh4003@gmail.com          1368\n",
       "hoangyen4394@gmail.com         1200\n",
       "vothingocthao2001@gmail.com    1023\n",
       "hieubh19@uef.edu.vn             753\n",
       "nm.hoang19@gmail.com            689\n",
       "                               ... \n",
       "uniace@outlook.com                1\n",
       "u12@outlook.com                   1\n",
       "trinhle3838@gmail.com             1\n",
       "u13@outlook.com                   1\n",
       "angle3652000@gmail.com            1\n",
       "Name: count, Length: 2437, dtype: int64"
      ]
     },
     "execution_count": 246,
     "metadata": {},
     "output_type": "execute_result"
    }
   ],
   "source": [
    "df['Email'].value_counts()"
   ]
  },
  {
   "cell_type": "code",
   "execution_count": 247,
   "id": "d640846b",
   "metadata": {},
   "outputs": [],
   "source": [
    "# Tạo cột phân loại người dùng theo email\n",
    "df['Customer_type'] = df['Email'].apply(lambda x: 'Normal' if pd.isna(x) else 'Office Staff' if 'outlook' in x else 'Student' if 'edu' in x else 'Normal')"
   ]
  },
  {
   "cell_type": "code",
   "execution_count": 248,
   "id": "2775d639",
   "metadata": {},
   "outputs": [
    {
     "data": {
      "text/plain": [
       "Customer_type\n",
       "Normal          89512\n",
       "Student          2571\n",
       "Office Staff     1997\n",
       "Name: count, dtype: int64"
      ]
     },
     "execution_count": 248,
     "metadata": {},
     "output_type": "execute_result"
    }
   ],
   "source": [
    "df.Customer_type.value_counts()"
   ]
  },
  {
   "cell_type": "code",
   "execution_count": 249,
   "id": "469ccd1d",
   "metadata": {},
   "outputs": [],
   "source": [
    "# Tạo cột tên trường nếu người dùng là sinh viên\n",
    "df['Uni'] = df['Email'].str.extract(r'@(?:[\\w]+\\.)?(.+)\\.edu')"
   ]
  },
  {
   "cell_type": "code",
   "execution_count": 250,
   "id": "b449fdc6",
   "metadata": {},
   "outputs": [
    {
     "data": {
      "text/plain": [
       "Uni\n",
       "uef    795\n",
       "ueh    636\n",
       "ctu    342\n",
       "uel    340\n",
       "buh     72\n",
       "Name: count, dtype: int64"
      ]
     },
     "execution_count": 250,
     "metadata": {},
     "output_type": "execute_result"
    }
   ],
   "source": [
    "df.Uni.value_counts().head()"
   ]
  },
  {
   "cell_type": "markdown",
   "id": "ea1e9784",
   "metadata": {},
   "source": [
    "<h2>Tạo cột đếm lượt khách hàng chỉ click 1 lần và không làm gì thêm (Bounce Rate)."
   ]
  },
  {
   "cell_type": "code",
   "execution_count": 251,
   "id": "ac66f74e",
   "metadata": {},
   "outputs": [
    {
     "name": "stdout",
     "output_type": "stream",
     "text": [
      "Tổng số truy cập không có email, ip address và cuid:  4697\n"
     ]
    }
   ],
   "source": [
    "# Tổng số truy cập không có email, ip address và cuid\n",
    "no_in4 = df[pd.isnull(df['Email']) & (pd.isnull(df['IP Address'])) & (pd.isnull(df['cuid']))]\n",
    "print('Tổng số truy cập không có email, ip address và cuid: ',len(no_in4))"
   ]
  },
  {
   "cell_type": "code",
   "execution_count": 252,
   "id": "f04a9074",
   "metadata": {},
   "outputs": [
    {
     "data": {
      "text/plain": [
       "Index([15432, 15433, 15434, 15435, 15436, 15437, 15438, 15439, 15440, 15441,\n",
       "       ...\n",
       "       20506, 20507, 20508, 20509, 25600, 32110, 32111, 32113, 32114, 32119],\n",
       "      dtype='int64', length=4697)"
      ]
     },
     "execution_count": 252,
     "metadata": {},
     "output_type": "execute_result"
    }
   ],
   "source": [
    "no_in4.index"
   ]
  },
  {
   "cell_type": "code",
   "execution_count": 253,
   "id": "5447eef9",
   "metadata": {},
   "outputs": [],
   "source": [
    "# Tạo hàm lọc các bản ghi có email, ip address và cuid chỉ xuất hiện 1 lần\n",
    "def once(col):\n",
    "    filt_chart = df[df[col].isin(df[col].value_counts()[df[col].value_counts() == 1].index)]\n",
    "    return filt_chart[['Email','IP Address','cuid']]"
   ]
  },
  {
   "cell_type": "code",
   "execution_count": 254,
   "id": "1ced2af5",
   "metadata": {},
   "outputs": [],
   "source": [
    "mail = once('Email')\n",
    "ip = once('IP Address')\n",
    "cuid = once('cuid')"
   ]
  },
  {
   "cell_type": "code",
   "execution_count": 255,
   "id": "91d55d11",
   "metadata": {},
   "outputs": [],
   "source": [
    "bounce = pd.concat([mail,ip,cuid]).drop_duplicates()"
   ]
  },
  {
   "cell_type": "code",
   "execution_count": 256,
   "id": "47cfa182",
   "metadata": {},
   "outputs": [],
   "source": [
    "bounce1 = pd.concat([mail,ip,cuid]).drop_duplicates()"
   ]
  },
  {
   "cell_type": "code",
   "execution_count": 257,
   "id": "052c5057",
   "metadata": {},
   "outputs": [
    {
     "data": {
      "text/plain": [
       "7256"
      ]
     },
     "execution_count": 257,
     "metadata": {},
     "output_type": "execute_result"
    }
   ],
   "source": [
    "len(bounce1)"
   ]
  },
  {
   "cell_type": "code",
   "execution_count": 258,
   "id": "ef28748c",
   "metadata": {},
   "outputs": [
    {
     "data": {
      "text/html": [
       "<div>\n",
       "<style scoped>\n",
       "    .dataframe tbody tr th:only-of-type {\n",
       "        vertical-align: middle;\n",
       "    }\n",
       "\n",
       "    .dataframe tbody tr th {\n",
       "        vertical-align: top;\n",
       "    }\n",
       "\n",
       "    .dataframe thead th {\n",
       "        text-align: right;\n",
       "    }\n",
       "</style>\n",
       "<table border=\"1\" class=\"dataframe\">\n",
       "  <thead>\n",
       "    <tr style=\"text-align: right;\">\n",
       "      <th></th>\n",
       "      <th>Email</th>\n",
       "      <th>IP Address</th>\n",
       "      <th>cuid</th>\n",
       "    </tr>\n",
       "  </thead>\n",
       "  <tbody>\n",
       "    <tr>\n",
       "      <th>404</th>\n",
       "      <td>dolam98@gmail.com</td>\n",
       "      <td>NaN</td>\n",
       "      <td>NaN</td>\n",
       "    </tr>\n",
       "    <tr>\n",
       "      <th>9901</th>\n",
       "      <td>angle3652000@gmail.com</td>\n",
       "      <td>NaN</td>\n",
       "      <td>NaN</td>\n",
       "    </tr>\n",
       "    <tr>\n",
       "      <th>10306</th>\n",
       "      <td>dangdinhtran0@gmail.com</td>\n",
       "      <td>NaN</td>\n",
       "      <td>NaN</td>\n",
       "    </tr>\n",
       "    <tr>\n",
       "      <th>10906</th>\n",
       "      <td>anhlai721997@gmail.com</td>\n",
       "      <td>NaN</td>\n",
       "      <td>ddaf5d13-1395-4053-a51b-07b6470de902</td>\n",
       "    </tr>\n",
       "    <tr>\n",
       "      <th>33078</th>\n",
       "      <td>vpta8902@gmail.com</td>\n",
       "      <td>NaN</td>\n",
       "      <td>NaN</td>\n",
       "    </tr>\n",
       "  </tbody>\n",
       "</table>\n",
       "</div>"
      ],
      "text/plain": [
       "                         Email IP Address  \\\n",
       "404          dolam98@gmail.com        NaN   \n",
       "9901    angle3652000@gmail.com        NaN   \n",
       "10306  dangdinhtran0@gmail.com        NaN   \n",
       "10906   anhlai721997@gmail.com        NaN   \n",
       "33078       vpta8902@gmail.com        NaN   \n",
       "\n",
       "                                       cuid  \n",
       "404                                     NaN  \n",
       "9901                                    NaN  \n",
       "10306                                   NaN  \n",
       "10906  ddaf5d13-1395-4053-a51b-07b6470de902  \n",
       "33078                                   NaN  "
      ]
     },
     "execution_count": 258,
     "metadata": {},
     "output_type": "execute_result"
    }
   ],
   "source": [
    "bounce.head()"
   ]
  },
  {
   "cell_type": "code",
   "execution_count": null,
   "id": "1780bddc",
   "metadata": {},
   "outputs": [],
   "source": [
    "# Tạo cột Bounce trong DataFrame df và đánh dấu các bản ghi có trong danh sách bounce\n",
    "list_bounce = list(bounce.index) + list(no_in4.index) # Kết hợp các chỉ số từ bounce và no_in4\n",
    "df['Bounce'] = 0 # Tạo cột Bounce với giá trị mặc định là 0\n",
    "for i in list_bounce:\n",
    "    df.iloc[i,20] = 1"
   ]
  },
  {
   "cell_type": "code",
   "execution_count": null,
   "id": "aa22d0b3",
   "metadata": {},
   "outputs": [
    {
     "name": "stdout",
     "output_type": "stream",
     "text": [
      "Tổng số bản ghi có email, ip address và cuid chỉ xuất hiện 1 lần:  7256\n"
     ]
    }
   ],
   "source": [
    "'''Ghép các bản ghi có email, ip address và cuid chỉ xuất hiện 1 lần sau khi đã loại bỏ c\n",
    " các bản ghi trùng lặp và đếm số lượng'''\n",
    "\n",
    "once_time = len(bounce)\n",
    "print('Tổng số bản ghi có email, ip address và cuid chỉ xuất hiện 1 lần: ',once_time)"
   ]
  },
  {
   "cell_type": "code",
   "execution_count": null,
   "id": "68d95e04",
   "metadata": {},
   "outputs": [
    {
     "name": "stdout",
     "output_type": "stream",
     "text": [
      "Bounce Rate:  12.71 %\n"
     ]
    }
   ],
   "source": [
    "''' Tính Bounce Rate bằng cách lấy tổng số truy cập không có email, ip address và cuid(no_in4) + tổng số bản ghi\n",
    "có email, ip address và cuid chỉ xuất hiện 1 lần(once_time) chia cho tổng số bản ghi trong DataFrame(df) '''\n",
    "\n",
    "bounce_rate = round((len(no_in4) + once_time) / len(df) * 100,2)\n",
    "print('Bounce Rate: ',bounce_rate,'%')"
   ]
  },
  {
   "cell_type": "code",
   "execution_count": null,
   "id": "17b0557b",
   "metadata": {},
   "outputs": [
    {
     "name": "stdout",
     "output_type": "stream",
     "text": [
      "Add to card rate:  7.1 %\n"
     ]
    }
   ],
   "source": [
    "add_rate = round(len(df[df['Type'] == 'list_addition']) / len(df) * 100,2)\n",
    "print('Add to card rate: ',add_rate,'%')"
   ]
  },
  {
   "cell_type": "code",
   "execution_count": null,
   "id": "7dd77fb7",
   "metadata": {},
   "outputs": [
    {
     "data": {
      "text/plain": [
       "6676"
      ]
     },
     "execution_count": 172,
     "metadata": {},
     "output_type": "execute_result"
    }
   ],
   "source": [
    "len(df[df['Type'] == 'list_addition'])"
   ]
  },
  {
   "cell_type": "code",
   "execution_count": null,
   "id": "dafbc44b",
   "metadata": {},
   "outputs": [
    {
     "name": "stdout",
     "output_type": "stream",
     "text": [
      "Conversion Rate:  0.94 %\n"
     ]
    }
   ],
   "source": [
    "conversion_rate = round(len(df[df['Tag'] == '[\"Completed Order\"]']) / len(df) * 100,2)\n",
    "print('Conversion Rate: ',conversion_rate,'%')"
   ]
  },
  {
   "cell_type": "markdown",
   "id": "7356c3ae",
   "metadata": {},
   "source": [
    "<h2>Lưu file đã làm sạch"
   ]
  },
  {
   "cell_type": "code",
   "execution_count": 211,
   "id": "67b322da",
   "metadata": {},
   "outputs": [],
   "source": [
    "df.to_csv('Uniace_cleaned.csv',index=False)"
   ]
  }
 ],
 "metadata": {
  "kernelspec": {
   "display_name": "base",
   "language": "python",
   "name": "python3"
  },
  "language_info": {
   "codemirror_mode": {
    "name": "ipython",
    "version": 3
   },
   "file_extension": ".py",
   "mimetype": "text/x-python",
   "name": "python",
   "nbconvert_exporter": "python",
   "pygments_lexer": "ipython3",
   "version": "3.11.5"
  }
 },
 "nbformat": 4,
 "nbformat_minor": 5
}
